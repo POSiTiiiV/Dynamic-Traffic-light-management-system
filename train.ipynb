{
 "cells": [
  {
   "metadata": {},
   "cell_type": "markdown",
   "source": "# Traffic light control using deep learning",
   "id": "76545c007018aef5"
  },
  {
   "metadata": {},
   "cell_type": "markdown",
   "source": "### Importing required libraries",
   "id": "4b547bd8a987752a"
  },
  {
   "cell_type": "code",
   "id": "initial_id",
   "metadata": {
    "collapsed": true,
    "ExecuteTime": {
     "end_time": "2024-04-13T14:59:44.144221Z",
     "start_time": "2024-04-13T14:59:44.140753Z"
    }
   },
   "source": [
    "import os\n",
    "import sys\n",
    "import optparse\n",
    "import numpy as np\n",
    "import torch\n",
    "import torch.optim as optim\n",
    "import torch.nn.functional as function\n",
    "import torch.nn as nn\n",
    "import matplotlib.pyplot as plt"
   ],
   "outputs": [],
   "execution_count": 40
  },
  {
   "metadata": {
    "ExecuteTime": {
     "end_time": "2024-04-13T14:59:44.213331Z",
     "start_time": "2024-04-13T14:59:44.208562Z"
    }
   },
   "cell_type": "code",
   "source": [
    "# we need to import python modules from the $SUMO_HOME/tools directory\n",
    "if \"SUMO_HOME\" in os.environ:\n",
    "    tools = os.path.join(os.environ[\"SUMO_HOME\"], \"tools\")\n",
    "    sys.path.append(tools)\n",
    "else:\n",
    "    sys.exit(\"please declare environment variable 'SUMO_HOME'\")\n",
    "\n",
    "from sumolib import checkBinary  # noqa\n",
    "import traci  # noqa"
   ],
   "id": "77b4b0d6749c3f3c",
   "outputs": [],
   "execution_count": 41
  },
  {
   "metadata": {},
   "cell_type": "markdown",
   "source": "### Define some helping functions",
   "id": "a622d08b968bea7f"
  },
  {
   "metadata": {
    "ExecuteTime": {
     "end_time": "2024-04-13T14:59:44.245711Z",
     "start_time": "2024-04-13T14:59:44.240091Z"
    }
   },
   "cell_type": "code",
   "source": [
    "def get_vehicle_numbers(lanes):\n",
    "    vehicle_per_lane = dict()\n",
    "    for each_lane in lanes:\n",
    "        vehicle_per_lane[each_lane] = 0\n",
    "        for k in traci.lane.getLastStepVehicleIDs(each_lane):\n",
    "            if traci.vehicle.getLanePosition(k) > 10:\n",
    "                vehicle_per_lane[each_lane] += 1\n",
    "    return vehicle_per_lane\n",
    "\n",
    "\n",
    "def get_waiting_time(lanes):\n",
    "    waiting_time = 0\n",
    "    for lane in lanes:\n",
    "        waiting_time += traci.lane.getWaitingTime(lane)\n",
    "    return waiting_time\n",
    "\n",
    "\n",
    "def phase_duration(junction, phase_time, phase_state):\n",
    "    traci.trafficlight.setRedYellowGreenState(junction, phase_state)\n",
    "    traci.trafficlight.setPhaseDuration(junction, phase_time)"
   ],
   "id": "8cb93ab810242ede",
   "outputs": [],
   "execution_count": 42
  },
  {
   "metadata": {},
   "cell_type": "markdown",
   "source": "### Model class",
   "id": "f9c7fbcf0835363a"
  },
  {
   "metadata": {
    "ExecuteTime": {
     "end_time": "2024-04-13T14:59:44.279431Z",
     "start_time": "2024-04-13T14:59:44.274301Z"
    }
   },
   "cell_type": "code",
   "source": [
    "class Model(nn.Module):\n",
    "    def __init__(self, lr, input_dims, fc1_dims, fc2_dims, n_actions):\n",
    "        super(Model, self).__init__()\n",
    "        self.lr = lr\n",
    "        self.input_dims = input_dims\n",
    "        self.fc1_dims = fc1_dims  # fully connected layer1\n",
    "        self.fc2_dims = fc2_dims  # fully connected layer2\n",
    "        self.n_actions = n_actions\n",
    "\n",
    "        self.linear1 = nn.Linear(self.input_dims, self.fc1_dims)\n",
    "        self.linear2 = nn.Linear(self.fc1_dims, self.fc2_dims)\n",
    "        self.linear3 = nn.Linear(self.fc2_dims, self.n_actions)\n",
    "\n",
    "        self.optimizer = optim.Adam(self.parameters(), lr=self.lr)\n",
    "        self.loss = nn.MSELoss()\n",
    "        self.device = torch.device(\"cuda\" if torch.cuda.is_available() else \"cpu\")\n",
    "        self.to(self.device)\n",
    "\n",
    "    def forward(self, state):\n",
    "        x = function.relu(self.linear1(state))\n",
    "        x = function.relu(self.linear2(x))\n",
    "        actions = self.linear3(x)\n",
    "        return actions"
   ],
   "id": "91f1dd9317f2914a",
   "outputs": [],
   "execution_count": 43
  },
  {
   "metadata": {},
   "cell_type": "markdown",
   "source": "### Agent class",
   "id": "9ea45225634f50cc"
  },
  {
   "metadata": {
    "ExecuteTime": {
     "end_time": "2024-04-13T14:59:44.300189Z",
     "start_time": "2024-04-13T14:59:44.289445Z"
    }
   },
   "cell_type": "code",
   "source": [
    "class Agent:\n",
    "    def __init__(\n",
    "            self,\n",
    "            gamma,\n",
    "            epsilon,\n",
    "            lr,\n",
    "            input_dims,\n",
    "            fc1_dims,\n",
    "            fc2_dims,\n",
    "            batch_size,\n",
    "            n_actions,\n",
    "            junctions,\n",
    "            max_memory_size=100000,\n",
    "            epsilon_dec=5e-4,\n",
    "            epsilon_end=0.05,\n",
    "    ):\n",
    "        self.gamma = gamma\n",
    "        self.epsilon = epsilon\n",
    "        self.lr = lr\n",
    "        self.batch_size = batch_size\n",
    "        self.input_dims = input_dims\n",
    "        self.fc1_dims = fc1_dims\n",
    "        self.fc2_dims = fc2_dims\n",
    "        self.n_actions = n_actions\n",
    "        self.action_space = [i for i in range(n_actions)]\n",
    "        self.junctions = junctions\n",
    "        self.max_mem = max_memory_size\n",
    "        self.epsilon_dec = epsilon_dec\n",
    "        self.epsilon_end = epsilon_end\n",
    "        self.mem_cntr = 0\n",
    "        self.iter_cntr = 0\n",
    "        self.replace_target = 100\n",
    "\n",
    "        self.Q_eval = Model(\n",
    "            self.lr, self.input_dims, self.fc1_dims, self.fc2_dims, self.n_actions\n",
    "        )\n",
    "        self.memory = dict()\n",
    "        for junction in junctions:\n",
    "            self.memory[junction] = {\n",
    "                \"state_memory\": np.zeros((self.max_mem, self.input_dims), dtype=np.float32),\n",
    "                \"new_state_memory\": np.zeros((self.max_mem, self.input_dims), dtype=np.float32),\n",
    "                \"reward_memory\": np.zeros(self.max_mem, dtype=np.float32),\n",
    "                \"action_memory\": np.zeros(self.max_mem, dtype=np.int32),\n",
    "                \"terminal_memory\": np.zeros(self.max_mem, dtype=np.bool_),\n",
    "                \"mem_cntr\": 0,\n",
    "                \"iter_cntr\": 0,\n",
    "            }\n",
    "\n",
    "    def store_transition(self, state, new_state, action, reward, done, junction):\n",
    "        index = self.memory[junction][\"mem_cntr\"] % self.max_mem\n",
    "        self.memory[junction][\"state_memory\"][index] = state\n",
    "        self.memory[junction][\"new_state_memory\"][index] = new_state\n",
    "        self.memory[junction]['reward_memory'][index] = reward\n",
    "        self.memory[junction]['terminal_memory'][index] = done\n",
    "        self.memory[junction][\"action_memory\"][index] = action\n",
    "        self.memory[junction][\"mem_cntr\"] += 1\n",
    "\n",
    "    def choose_action(self, observation):\n",
    "        state = torch.tensor([observation], dtype=torch.float).to(self.Q_eval.device)\n",
    "        if np.random.random() < self.epsilon:  # exploitation\n",
    "            actions = self.Q_eval.forward(state)\n",
    "            action = torch.argmax(actions).item()\n",
    "        else:\n",
    "            action = np.random.choice(self.action_space)  # exploration\n",
    "\n",
    "        return action\n",
    "\n",
    "    def reset(self, junction_numbers):\n",
    "        for junction_number in junction_numbers:\n",
    "            self.memory[junction_number]['mem_cntr'] = 0\n",
    "\n",
    "    def save(self, model):\n",
    "        torch.save(self.Q_eval.state_dict(), f'models/{model}.bin')\n",
    "\n",
    "    def learn(self, junction):\n",
    "        self.Q_eval.optimizer.zero_grad()\n",
    "\n",
    "        batch = np.arange(self.memory[junction]['mem_cntr'], dtype=np.int32)\n",
    "\n",
    "        state_batch = torch.tensor(self.memory[junction][\"state_memory\"][batch]).to(self.Q_eval.device)\n",
    "        new_state_batch = torch.tensor(self.memory[junction][\"new_state_memory\"][batch]).to(self.Q_eval.device)\n",
    "        reward_batch = torch.tensor(self.memory[junction]['reward_memory'][batch]).to(self.Q_eval.device)\n",
    "        terminal_batch = torch.tensor(self.memory[junction]['terminal_memory'][batch]).to(self.Q_eval.device)\n",
    "        action_batch = self.memory[junction][\"action_memory\"][batch]\n",
    "\n",
    "        q_eval = self.Q_eval.forward(state_batch)[batch, action_batch]\n",
    "        q_next = self.Q_eval.forward(new_state_batch)\n",
    "        q_next[terminal_batch] = 0.0\n",
    "        q_target = reward_batch + self.gamma * torch.max(q_next, dim=1)[0]\n",
    "        loss = self.Q_eval.loss(q_target, q_eval).to(self.Q_eval.device)\n",
    "\n",
    "        loss.backward()\n",
    "        self.Q_eval.optimizer.step()\n",
    "\n",
    "        self.iter_cntr += 1\n",
    "        self.epsilon = self.epsilon - self.epsilon_dec if self.epsilon > self.epsilon_end else self.epsilon_end"
   ],
   "id": "cbdb97260300a61e",
   "outputs": [],
   "execution_count": 44
  },
  {
   "metadata": {},
   "cell_type": "markdown",
   "source": "### Define the main function",
   "id": "e598fe98b4714f1"
  },
  {
   "metadata": {
    "ExecuteTime": {
     "end_time": "2024-04-13T14:59:44.313710Z",
     "start_time": "2024-04-13T14:59:44.303202Z"
    }
   },
   "cell_type": "code",
   "source": [
    "def run(train=True, model_name=\"models\", epochs=50, steps=500):\n",
    "    \"\"\"execute the TraCI control loop\"\"\"\n",
    "    best_time = np.inf\n",
    "    total_time_list = list()\n",
    "    traci.start(\n",
    "        [checkBinary(\"sumo\"), \"-c\", \"configuration.sumocfg\", \"--tripinfo-output\", \"maps/tripinfo.xml\"]\n",
    "    )\n",
    "    all_junctions = traci.trafficlight.getIDList()\n",
    "    junction_numbers = list(range(len(all_junctions)))\n",
    "\n",
    "    brain = Agent(\n",
    "        gamma=0.99,\n",
    "        epsilon=0.0,\n",
    "        lr=0.1,\n",
    "        input_dims=4,\n",
    "        fc1_dims=256,\n",
    "        fc2_dims=256,\n",
    "        batch_size=1024,\n",
    "        n_actions=4,\n",
    "        junctions=junction_numbers,\n",
    "    )\n",
    "\n",
    "    if not train:\n",
    "        brain.Q_eval.load_state_dict(torch.load(f'models/{model_name}.bin', map_location=brain.Q_eval.device))\n",
    "\n",
    "    print(brain.Q_eval.device)\n",
    "    traci.close()\n",
    "    for e in range(epochs):\n",
    "        if train:\n",
    "            traci.start(\n",
    "                [checkBinary(\"sumo-gui\"), \"-c\", \"configuration.sumocfg\", \"--tripinfo-output\", \"maps/tripinfo.xml\"]\n",
    "            )\n",
    "        else:\n",
    "            traci.start(\n",
    "                [checkBinary(\"sumo-gui\"), \"-c\", \"configuration.sumocfg\", \"--tripinfo-output\", \"maps/city3.rou.xml\"]\n",
    "            )\n",
    "\n",
    "        print(f\"epoch: {e}\")\n",
    "        select_lane = [\n",
    "            [\"yyyrrrrrrrrr\", \"GGGrrrrrrrrr\"],\n",
    "            [\"rrryyyrrrrrr\", \"rrrGGGrrrrrr\"],\n",
    "            [\"rrrrrryyyrrr\", \"rrrrrrGGGrrr\"],\n",
    "            [\"rrrrrrrrryyy\", \"rrrrrrrrrGGG\"],\n",
    "        ]\n",
    "\n",
    "        step = 0\n",
    "        total_time = 0\n",
    "        min_duration = 5\n",
    "\n",
    "        traffic_lights_time = dict()\n",
    "        prev_wait_time = dict()\n",
    "        prev_vehicles_per_lane = dict()\n",
    "        prev_action = dict()\n",
    "        all_lanes = list()\n",
    "\n",
    "        for junction_number, junction in enumerate(all_junctions):\n",
    "            prev_wait_time[junction] = 0\n",
    "            prev_action[junction_number] = 0\n",
    "            traffic_lights_time[junction] = 0\n",
    "            prev_vehicles_per_lane[junction_number] = [0] * 4\n",
    "            all_lanes.extend(list(traci.trafficlight.getControlledLanes(junction)))\n",
    "\n",
    "        while step <= steps:\n",
    "            traci.simulationStep()\n",
    "            for junction_number, junction in enumerate(all_junctions):\n",
    "                controlled_lanes = traci.trafficlight.getControlledLanes(junction)\n",
    "                waiting_time = get_waiting_time(controlled_lanes)\n",
    "                total_time += waiting_time\n",
    "                if traffic_lights_time[junction] == 0:\n",
    "                    vehicles_per_lane = get_vehicle_numbers(controlled_lanes)\n",
    "\n",
    "                    # storing previous state and current state\n",
    "                    reward = -1 * waiting_time\n",
    "                    state_ = list(vehicles_per_lane.values())\n",
    "                    state = prev_vehicles_per_lane[junction_number]\n",
    "                    prev_vehicles_per_lane[junction_number] = state_\n",
    "                    brain.store_transition(state, state_, prev_action[junction_number], reward, (step == steps), junction_number)\n",
    "\n",
    "                    # selecting new action based on current state\n",
    "                    lane = brain.choose_action(state_)\n",
    "                    prev_action[junction_number] = lane\n",
    "                    phase_duration(junction, 6, select_lane[lane][0])\n",
    "                    phase_duration(junction, min_duration + 10, select_lane[lane][1])\n",
    "\n",
    "                    traffic_lights_time[junction] = min_duration + 10\n",
    "                    if train:\n",
    "                        brain.learn(junction_number)\n",
    "                else:\n",
    "                    traffic_lights_time[junction] -= 1\n",
    "            step += 1\n",
    "        print(\"total_time\", total_time)\n",
    "        total_time_list.append(total_time)\n",
    "\n",
    "        if total_time < best_time:\n",
    "            best_time = total_time\n",
    "            if train:\n",
    "                brain.save(model_name)\n",
    "\n",
    "        traci.close()\n",
    "        sys.stdout.flush()\n",
    "        if not train:\n",
    "            break\n",
    "    if train:\n",
    "        plt.plot(list(range(len(total_time_list))), total_time_list)\n",
    "        plt.xlabel(\"epochs\")\n",
    "        plt.ylabel(\"total time\")\n",
    "        plt.savefig(f'plots/time_vs_epoch_{model_name}.png')\n",
    "        plt.show()"
   ],
   "id": "e5224208ad2080b0",
   "outputs": [],
   "execution_count": 45
  },
  {
   "metadata": {},
   "cell_type": "markdown",
   "source": "### Create an option parser to keep track of important variables and their values",
   "id": "678ea278c4ea58ad"
  },
  {
   "metadata": {
    "ExecuteTime": {
     "end_time": "2024-04-13T14:59:44.321029Z",
     "start_time": "2024-04-13T14:59:44.315722Z"
    }
   },
   "cell_type": "code",
   "source": [
    "def get_options():\n",
    "    opt_parser = optparse.OptionParser()\n",
    "    opt_parser.add_option(\n",
    "        \"-m\",\n",
    "        dest='model_name',\n",
    "        type='string',\n",
    "        default=\"model\",\n",
    "        help=\"name of models\",\n",
    "    )\n",
    "    opt_parser.add_option(\n",
    "        \"--train\",\n",
    "        action='store_true',\n",
    "        default=False,\n",
    "        help=\"training or testing\",\n",
    "    )\n",
    "    opt_parser.add_option(\n",
    "        \"-e\",\n",
    "        dest='epochs',\n",
    "        type='int',\n",
    "        default=50,\n",
    "        help=\"Number of epochs\",\n",
    "    )\n",
    "    opt_parser.add_option(\n",
    "        \"-s\",\n",
    "        dest='steps',\n",
    "        type='int',\n",
    "        default=500,\n",
    "        help=\"Number of steps\",\n",
    "    )\n",
    "    \n",
    "    avail_options, args = opt_parser.parse_args()\n",
    "    \n",
    "    return avail_options"
   ],
   "id": "3008ed6b5e22457b",
   "outputs": [],
   "execution_count": 46
  },
  {
   "metadata": {},
   "cell_type": "markdown",
   "source": "### Driver code",
   "id": "d8d82aa74c3709e8"
  },
  {
   "metadata": {
    "ExecuteTime": {
     "end_time": "2024-04-13T14:59:44.478030Z",
     "start_time": "2024-04-13T14:59:44.341225Z"
    }
   },
   "cell_type": "code",
   "source": [
    "if __name__ == \"__main__\":\n",
    "    options = get_options()\n",
    "    run(\n",
    "        train=options.train, \n",
    "        model_name=options.model_name, \n",
    "        epochs=options.epochs, \n",
    "        steps=options.steps\n",
    "    )"
   ],
   "id": "1a9d9f41236d46aa",
   "outputs": [
    {
     "name": "stderr",
     "output_type": "stream",
     "text": [
      "Usage: ipykernel_launcher.py [options]\n",
      "\n",
      "ipykernel_launcher.py: error: no such option: -f\n"
     ]
    },
    {
     "ename": "AttributeError",
     "evalue": "'tuple' object has no attribute 'tb_frame'",
     "output_type": "error",
     "traceback": [
      "\u001B[1;31m---------------------------------------------------------------------------\u001B[0m",
      "\u001B[1;31mBadOptionError\u001B[0m                            Traceback (most recent call last)",
      "File \u001B[1;32m~\\AppData\\Local\\Programs\\Python\\Python312\\Lib\\optparse.py:1387\u001B[0m, in \u001B[0;36mOptionParser.parse_args\u001B[1;34m(self, args, values)\u001B[0m\n\u001B[0;32m   1386\u001B[0m \u001B[38;5;28;01mtry\u001B[39;00m:\n\u001B[1;32m-> 1387\u001B[0m     stop \u001B[38;5;241m=\u001B[39m \u001B[38;5;28;43mself\u001B[39;49m\u001B[38;5;241;43m.\u001B[39;49m\u001B[43m_process_args\u001B[49m\u001B[43m(\u001B[49m\u001B[43mlargs\u001B[49m\u001B[43m,\u001B[49m\u001B[43m \u001B[49m\u001B[43mrargs\u001B[49m\u001B[43m,\u001B[49m\u001B[43m \u001B[49m\u001B[43mvalues\u001B[49m\u001B[43m)\u001B[49m\n\u001B[0;32m   1388\u001B[0m \u001B[38;5;28;01mexcept\u001B[39;00m (BadOptionError, OptionValueError) \u001B[38;5;28;01mas\u001B[39;00m err:\n",
      "File \u001B[1;32m~\\AppData\\Local\\Programs\\Python\\Python312\\Lib\\optparse.py:1431\u001B[0m, in \u001B[0;36mOptionParser._process_args\u001B[1;34m(self, largs, rargs, values)\u001B[0m\n\u001B[0;32m   1428\u001B[0m \u001B[38;5;28;01melif\u001B[39;00m arg[:\u001B[38;5;241m1\u001B[39m] \u001B[38;5;241m==\u001B[39m \u001B[38;5;124m\"\u001B[39m\u001B[38;5;124m-\u001B[39m\u001B[38;5;124m\"\u001B[39m \u001B[38;5;129;01mand\u001B[39;00m \u001B[38;5;28mlen\u001B[39m(arg) \u001B[38;5;241m>\u001B[39m \u001B[38;5;241m1\u001B[39m:\n\u001B[0;32m   1429\u001B[0m     \u001B[38;5;66;03m# process a cluster of short options (possibly with\u001B[39;00m\n\u001B[0;32m   1430\u001B[0m     \u001B[38;5;66;03m# value(s) for the last one only)\u001B[39;00m\n\u001B[1;32m-> 1431\u001B[0m     \u001B[38;5;28;43mself\u001B[39;49m\u001B[38;5;241;43m.\u001B[39;49m\u001B[43m_process_short_opts\u001B[49m\u001B[43m(\u001B[49m\u001B[43mrargs\u001B[49m\u001B[43m,\u001B[49m\u001B[43m \u001B[49m\u001B[43mvalues\u001B[49m\u001B[43m)\u001B[49m\n\u001B[0;32m   1432\u001B[0m \u001B[38;5;28;01melif\u001B[39;00m \u001B[38;5;28mself\u001B[39m\u001B[38;5;241m.\u001B[39mallow_interspersed_args:\n",
      "File \u001B[1;32m~\\AppData\\Local\\Programs\\Python\\Python312\\Lib\\optparse.py:1513\u001B[0m, in \u001B[0;36mOptionParser._process_short_opts\u001B[1;34m(self, rargs, values)\u001B[0m\n\u001B[0;32m   1512\u001B[0m \u001B[38;5;28;01mif\u001B[39;00m \u001B[38;5;129;01mnot\u001B[39;00m option:\n\u001B[1;32m-> 1513\u001B[0m     \u001B[38;5;28;01mraise\u001B[39;00m BadOptionError(opt)\n\u001B[0;32m   1514\u001B[0m \u001B[38;5;28;01mif\u001B[39;00m option\u001B[38;5;241m.\u001B[39mtakes_value():\n\u001B[0;32m   1515\u001B[0m     \u001B[38;5;66;03m# Any characters left in arg?  Pretend they're the\u001B[39;00m\n\u001B[0;32m   1516\u001B[0m     \u001B[38;5;66;03m# next arg, and stop consuming characters of arg.\u001B[39;00m\n",
      "\u001B[1;31mBadOptionError\u001B[0m: no such option: -f",
      "\nDuring handling of the above exception, another exception occurred:\n",
      "\u001B[1;31mSystemExit\u001B[0m                                Traceback (most recent call last)",
      "    \u001B[1;31m[... skipping hidden 1 frame]\u001B[0m\n",
      "Cell \u001B[1;32mIn[47], line 2\u001B[0m\n\u001B[0;32m      1\u001B[0m \u001B[38;5;28;01mif\u001B[39;00m \u001B[38;5;18m__name__\u001B[39m \u001B[38;5;241m==\u001B[39m \u001B[38;5;124m\"\u001B[39m\u001B[38;5;124m__main__\u001B[39m\u001B[38;5;124m\"\u001B[39m:\n\u001B[1;32m----> 2\u001B[0m     options \u001B[38;5;241m=\u001B[39m \u001B[43mget_options\u001B[49m\u001B[43m(\u001B[49m\u001B[43m)\u001B[49m\n\u001B[0;32m      3\u001B[0m     run(\n\u001B[0;32m      4\u001B[0m         train\u001B[38;5;241m=\u001B[39moptions\u001B[38;5;241m.\u001B[39mtrain, \n\u001B[0;32m      5\u001B[0m         model_name\u001B[38;5;241m=\u001B[39moptions\u001B[38;5;241m.\u001B[39mmodel_name, \n\u001B[0;32m      6\u001B[0m         epochs\u001B[38;5;241m=\u001B[39moptions\u001B[38;5;241m.\u001B[39mepochs, \n\u001B[0;32m      7\u001B[0m         steps\u001B[38;5;241m=\u001B[39moptions\u001B[38;5;241m.\u001B[39msteps\n\u001B[0;32m      8\u001B[0m     )\n",
      "Cell \u001B[1;32mIn[46], line 31\u001B[0m, in \u001B[0;36mget_options\u001B[1;34m()\u001B[0m\n\u001B[0;32m     23\u001B[0m opt_parser\u001B[38;5;241m.\u001B[39madd_option(\n\u001B[0;32m     24\u001B[0m     \u001B[38;5;124m\"\u001B[39m\u001B[38;5;124m-s\u001B[39m\u001B[38;5;124m\"\u001B[39m,\n\u001B[0;32m     25\u001B[0m     dest\u001B[38;5;241m=\u001B[39m\u001B[38;5;124m'\u001B[39m\u001B[38;5;124msteps\u001B[39m\u001B[38;5;124m'\u001B[39m,\n\u001B[1;32m   (...)\u001B[0m\n\u001B[0;32m     28\u001B[0m     help\u001B[38;5;241m=\u001B[39m\u001B[38;5;124m\"\u001B[39m\u001B[38;5;124mNumber of steps\u001B[39m\u001B[38;5;124m\"\u001B[39m,\n\u001B[0;32m     29\u001B[0m )\n\u001B[1;32m---> 31\u001B[0m avail_options, args \u001B[38;5;241m=\u001B[39m \u001B[43mopt_parser\u001B[49m\u001B[38;5;241;43m.\u001B[39;49m\u001B[43mparse_args\u001B[49m\u001B[43m(\u001B[49m\u001B[43m)\u001B[49m\n\u001B[0;32m     33\u001B[0m \u001B[38;5;28;01mreturn\u001B[39;00m avail_options\n",
      "File \u001B[1;32m~\\AppData\\Local\\Programs\\Python\\Python312\\Lib\\optparse.py:1389\u001B[0m, in \u001B[0;36mOptionParser.parse_args\u001B[1;34m(self, args, values)\u001B[0m\n\u001B[0;32m   1388\u001B[0m \u001B[38;5;28;01mexcept\u001B[39;00m (BadOptionError, OptionValueError) \u001B[38;5;28;01mas\u001B[39;00m err:\n\u001B[1;32m-> 1389\u001B[0m     \u001B[38;5;28;43mself\u001B[39;49m\u001B[38;5;241;43m.\u001B[39;49m\u001B[43merror\u001B[49m\u001B[43m(\u001B[49m\u001B[38;5;28;43mstr\u001B[39;49m\u001B[43m(\u001B[49m\u001B[43merr\u001B[49m\u001B[43m)\u001B[49m\u001B[43m)\u001B[49m\n\u001B[0;32m   1391\u001B[0m args \u001B[38;5;241m=\u001B[39m largs \u001B[38;5;241m+\u001B[39m rargs\n",
      "File \u001B[1;32m~\\AppData\\Local\\Programs\\Python\\Python312\\Lib\\optparse.py:1569\u001B[0m, in \u001B[0;36mOptionParser.error\u001B[1;34m(self, msg)\u001B[0m\n\u001B[0;32m   1568\u001B[0m \u001B[38;5;28mself\u001B[39m\u001B[38;5;241m.\u001B[39mprint_usage(sys\u001B[38;5;241m.\u001B[39mstderr)\n\u001B[1;32m-> 1569\u001B[0m \u001B[38;5;28;43mself\u001B[39;49m\u001B[38;5;241;43m.\u001B[39;49m\u001B[43mexit\u001B[49m\u001B[43m(\u001B[49m\u001B[38;5;241;43m2\u001B[39;49m\u001B[43m,\u001B[49m\u001B[43m \u001B[49m\u001B[38;5;124;43m\"\u001B[39;49m\u001B[38;5;132;43;01m%s\u001B[39;49;00m\u001B[38;5;124;43m: error: \u001B[39;49m\u001B[38;5;132;43;01m%s\u001B[39;49;00m\u001B[38;5;130;43;01m\\n\u001B[39;49;00m\u001B[38;5;124;43m\"\u001B[39;49m\u001B[43m \u001B[49m\u001B[38;5;241;43m%\u001B[39;49m\u001B[43m \u001B[49m\u001B[43m(\u001B[49m\u001B[38;5;28;43mself\u001B[39;49m\u001B[38;5;241;43m.\u001B[39;49m\u001B[43mget_prog_name\u001B[49m\u001B[43m(\u001B[49m\u001B[43m)\u001B[49m\u001B[43m,\u001B[49m\u001B[43m \u001B[49m\u001B[43mmsg\u001B[49m\u001B[43m)\u001B[49m\u001B[43m)\u001B[49m\n",
      "File \u001B[1;32m~\\AppData\\Local\\Programs\\Python\\Python312\\Lib\\optparse.py:1559\u001B[0m, in \u001B[0;36mOptionParser.exit\u001B[1;34m(self, status, msg)\u001B[0m\n\u001B[0;32m   1558\u001B[0m     sys\u001B[38;5;241m.\u001B[39mstderr\u001B[38;5;241m.\u001B[39mwrite(msg)\n\u001B[1;32m-> 1559\u001B[0m \u001B[43msys\u001B[49m\u001B[38;5;241;43m.\u001B[39;49m\u001B[43mexit\u001B[49m\u001B[43m(\u001B[49m\u001B[43mstatus\u001B[49m\u001B[43m)\u001B[49m\n",
      "\u001B[1;31mSystemExit\u001B[0m: 2",
      "\nDuring handling of the above exception, another exception occurred:\n",
      "\u001B[1;31mAttributeError\u001B[0m                            Traceback (most recent call last)",
      "    \u001B[1;31m[... skipping hidden 1 frame]\u001B[0m\n",
      "File \u001B[1;32m~\\PycharmProjects\\Traffic-Light-Management\\.venv\\Lib\\site-packages\\IPython\\core\\interactiveshell.py:2145\u001B[0m, in \u001B[0;36mInteractiveShell.showtraceback\u001B[1;34m(self, exc_tuple, filename, tb_offset, exception_only, running_compiled_code)\u001B[0m\n\u001B[0;32m   2142\u001B[0m \u001B[38;5;28;01mif\u001B[39;00m exception_only:\n\u001B[0;32m   2143\u001B[0m     stb \u001B[38;5;241m=\u001B[39m [\u001B[38;5;124m'\u001B[39m\u001B[38;5;124mAn exception has occurred, use \u001B[39m\u001B[38;5;124m%\u001B[39m\u001B[38;5;124mtb to see \u001B[39m\u001B[38;5;124m'\u001B[39m\n\u001B[0;32m   2144\u001B[0m            \u001B[38;5;124m'\u001B[39m\u001B[38;5;124mthe full traceback.\u001B[39m\u001B[38;5;130;01m\\n\u001B[39;00m\u001B[38;5;124m'\u001B[39m]\n\u001B[1;32m-> 2145\u001B[0m     stb\u001B[38;5;241m.\u001B[39mextend(\u001B[38;5;28;43mself\u001B[39;49m\u001B[38;5;241;43m.\u001B[39;49m\u001B[43mInteractiveTB\u001B[49m\u001B[38;5;241;43m.\u001B[39;49m\u001B[43mget_exception_only\u001B[49m\u001B[43m(\u001B[49m\u001B[43metype\u001B[49m\u001B[43m,\u001B[49m\n\u001B[0;32m   2146\u001B[0m \u001B[43m                                                     \u001B[49m\u001B[43mvalue\u001B[49m\u001B[43m)\u001B[49m)\n\u001B[0;32m   2147\u001B[0m \u001B[38;5;28;01melse\u001B[39;00m:\n\u001B[0;32m   2149\u001B[0m     \u001B[38;5;28;01mdef\u001B[39;00m \u001B[38;5;21mcontains_exceptiongroup\u001B[39m(val):\n",
      "File \u001B[1;32m~\\PycharmProjects\\Traffic-Light-Management\\.venv\\Lib\\site-packages\\IPython\\core\\ultratb.py:710\u001B[0m, in \u001B[0;36mListTB.get_exception_only\u001B[1;34m(self, etype, value)\u001B[0m\n\u001B[0;32m    702\u001B[0m \u001B[38;5;28;01mdef\u001B[39;00m \u001B[38;5;21mget_exception_only\u001B[39m(\u001B[38;5;28mself\u001B[39m, etype, value):\n\u001B[0;32m    703\u001B[0m \u001B[38;5;250m    \u001B[39m\u001B[38;5;124;03m\"\"\"Only print the exception type and message, without a traceback.\u001B[39;00m\n\u001B[0;32m    704\u001B[0m \n\u001B[0;32m    705\u001B[0m \u001B[38;5;124;03m    Parameters\u001B[39;00m\n\u001B[1;32m   (...)\u001B[0m\n\u001B[0;32m    708\u001B[0m \u001B[38;5;124;03m    value : exception value\u001B[39;00m\n\u001B[0;32m    709\u001B[0m \u001B[38;5;124;03m    \"\"\"\u001B[39;00m\n\u001B[1;32m--> 710\u001B[0m     \u001B[38;5;28;01mreturn\u001B[39;00m \u001B[43mListTB\u001B[49m\u001B[38;5;241;43m.\u001B[39;49m\u001B[43mstructured_traceback\u001B[49m\u001B[43m(\u001B[49m\u001B[38;5;28;43mself\u001B[39;49m\u001B[43m,\u001B[49m\u001B[43m \u001B[49m\u001B[43metype\u001B[49m\u001B[43m,\u001B[49m\u001B[43m \u001B[49m\u001B[43mvalue\u001B[49m\u001B[43m)\u001B[49m\n",
      "File \u001B[1;32m~\\PycharmProjects\\Traffic-Light-Management\\.venv\\Lib\\site-packages\\IPython\\core\\ultratb.py:568\u001B[0m, in \u001B[0;36mListTB.structured_traceback\u001B[1;34m(self, etype, evalue, etb, tb_offset, context)\u001B[0m\n\u001B[0;32m    565\u001B[0m     chained_exc_ids\u001B[38;5;241m.\u001B[39madd(\u001B[38;5;28mid\u001B[39m(exception[\u001B[38;5;241m1\u001B[39m]))\n\u001B[0;32m    566\u001B[0m     chained_exceptions_tb_offset \u001B[38;5;241m=\u001B[39m \u001B[38;5;241m0\u001B[39m\n\u001B[0;32m    567\u001B[0m     out_list \u001B[38;5;241m=\u001B[39m (\n\u001B[1;32m--> 568\u001B[0m         \u001B[38;5;28;43mself\u001B[39;49m\u001B[38;5;241;43m.\u001B[39;49m\u001B[43mstructured_traceback\u001B[49m\u001B[43m(\u001B[49m\n\u001B[0;32m    569\u001B[0m \u001B[43m            \u001B[49m\u001B[43metype\u001B[49m\u001B[43m,\u001B[49m\n\u001B[0;32m    570\u001B[0m \u001B[43m            \u001B[49m\u001B[43mevalue\u001B[49m\u001B[43m,\u001B[49m\n\u001B[0;32m    571\u001B[0m \u001B[43m            \u001B[49m\u001B[43m(\u001B[49m\u001B[43metb\u001B[49m\u001B[43m,\u001B[49m\u001B[43m \u001B[49m\u001B[43mchained_exc_ids\u001B[49m\u001B[43m)\u001B[49m\u001B[43m,\u001B[49m\u001B[43m  \u001B[49m\u001B[38;5;66;43;03m# type: ignore\u001B[39;49;00m\n\u001B[0;32m    572\u001B[0m \u001B[43m            \u001B[49m\u001B[43mchained_exceptions_tb_offset\u001B[49m\u001B[43m,\u001B[49m\n\u001B[0;32m    573\u001B[0m \u001B[43m            \u001B[49m\u001B[43mcontext\u001B[49m\u001B[43m,\u001B[49m\n\u001B[0;32m    574\u001B[0m \u001B[43m        \u001B[49m\u001B[43m)\u001B[49m\n\u001B[0;32m    575\u001B[0m         \u001B[38;5;241m+\u001B[39m chained_exception_message\n\u001B[0;32m    576\u001B[0m         \u001B[38;5;241m+\u001B[39m out_list)\n\u001B[0;32m    578\u001B[0m \u001B[38;5;28;01mreturn\u001B[39;00m out_list\n",
      "File \u001B[1;32m~\\PycharmProjects\\Traffic-Light-Management\\.venv\\Lib\\site-packages\\IPython\\core\\ultratb.py:1454\u001B[0m, in \u001B[0;36mAutoFormattedTB.structured_traceback\u001B[1;34m(self, etype, evalue, etb, tb_offset, number_of_lines_of_context)\u001B[0m\n\u001B[0;32m   1452\u001B[0m \u001B[38;5;28;01melse\u001B[39;00m:\n\u001B[0;32m   1453\u001B[0m     \u001B[38;5;28mself\u001B[39m\u001B[38;5;241m.\u001B[39mtb \u001B[38;5;241m=\u001B[39m etb\n\u001B[1;32m-> 1454\u001B[0m \u001B[38;5;28;01mreturn\u001B[39;00m \u001B[43mFormattedTB\u001B[49m\u001B[38;5;241;43m.\u001B[39;49m\u001B[43mstructured_traceback\u001B[49m\u001B[43m(\u001B[49m\n\u001B[0;32m   1455\u001B[0m \u001B[43m    \u001B[49m\u001B[38;5;28;43mself\u001B[39;49m\u001B[43m,\u001B[49m\u001B[43m \u001B[49m\u001B[43metype\u001B[49m\u001B[43m,\u001B[49m\u001B[43m \u001B[49m\u001B[43mevalue\u001B[49m\u001B[43m,\u001B[49m\u001B[43m \u001B[49m\u001B[43metb\u001B[49m\u001B[43m,\u001B[49m\u001B[43m \u001B[49m\u001B[43mtb_offset\u001B[49m\u001B[43m,\u001B[49m\u001B[43m \u001B[49m\u001B[43mnumber_of_lines_of_context\u001B[49m\n\u001B[0;32m   1456\u001B[0m \u001B[43m\u001B[49m\u001B[43m)\u001B[49m\n",
      "File \u001B[1;32m~\\PycharmProjects\\Traffic-Light-Management\\.venv\\Lib\\site-packages\\IPython\\core\\ultratb.py:1345\u001B[0m, in \u001B[0;36mFormattedTB.structured_traceback\u001B[1;34m(self, etype, value, tb, tb_offset, number_of_lines_of_context)\u001B[0m\n\u001B[0;32m   1342\u001B[0m mode \u001B[38;5;241m=\u001B[39m \u001B[38;5;28mself\u001B[39m\u001B[38;5;241m.\u001B[39mmode\n\u001B[0;32m   1343\u001B[0m \u001B[38;5;28;01mif\u001B[39;00m mode \u001B[38;5;129;01min\u001B[39;00m \u001B[38;5;28mself\u001B[39m\u001B[38;5;241m.\u001B[39mverbose_modes:\n\u001B[0;32m   1344\u001B[0m     \u001B[38;5;66;03m# Verbose modes need a full traceback\u001B[39;00m\n\u001B[1;32m-> 1345\u001B[0m     \u001B[38;5;28;01mreturn\u001B[39;00m \u001B[43mVerboseTB\u001B[49m\u001B[38;5;241;43m.\u001B[39;49m\u001B[43mstructured_traceback\u001B[49m\u001B[43m(\u001B[49m\n\u001B[0;32m   1346\u001B[0m \u001B[43m        \u001B[49m\u001B[38;5;28;43mself\u001B[39;49m\u001B[43m,\u001B[49m\u001B[43m \u001B[49m\u001B[43metype\u001B[49m\u001B[43m,\u001B[49m\u001B[43m \u001B[49m\u001B[43mvalue\u001B[49m\u001B[43m,\u001B[49m\u001B[43m \u001B[49m\u001B[43mtb\u001B[49m\u001B[43m,\u001B[49m\u001B[43m \u001B[49m\u001B[43mtb_offset\u001B[49m\u001B[43m,\u001B[49m\u001B[43m \u001B[49m\u001B[43mnumber_of_lines_of_context\u001B[49m\n\u001B[0;32m   1347\u001B[0m \u001B[43m    \u001B[49m\u001B[43m)\u001B[49m\n\u001B[0;32m   1348\u001B[0m \u001B[38;5;28;01melif\u001B[39;00m mode \u001B[38;5;241m==\u001B[39m \u001B[38;5;124m'\u001B[39m\u001B[38;5;124mMinimal\u001B[39m\u001B[38;5;124m'\u001B[39m:\n\u001B[0;32m   1349\u001B[0m     \u001B[38;5;28;01mreturn\u001B[39;00m ListTB\u001B[38;5;241m.\u001B[39mget_exception_only(\u001B[38;5;28mself\u001B[39m, etype, value)\n",
      "File \u001B[1;32m~\\PycharmProjects\\Traffic-Light-Management\\.venv\\Lib\\site-packages\\IPython\\core\\ultratb.py:1192\u001B[0m, in \u001B[0;36mVerboseTB.structured_traceback\u001B[1;34m(self, etype, evalue, etb, tb_offset, number_of_lines_of_context)\u001B[0m\n\u001B[0;32m   1183\u001B[0m \u001B[38;5;28;01mdef\u001B[39;00m \u001B[38;5;21mstructured_traceback\u001B[39m(\n\u001B[0;32m   1184\u001B[0m     \u001B[38;5;28mself\u001B[39m,\n\u001B[0;32m   1185\u001B[0m     etype: \u001B[38;5;28mtype\u001B[39m,\n\u001B[1;32m   (...)\u001B[0m\n\u001B[0;32m   1189\u001B[0m     number_of_lines_of_context: \u001B[38;5;28mint\u001B[39m \u001B[38;5;241m=\u001B[39m \u001B[38;5;241m5\u001B[39m,\n\u001B[0;32m   1190\u001B[0m ):\n\u001B[0;32m   1191\u001B[0m \u001B[38;5;250m    \u001B[39m\u001B[38;5;124;03m\"\"\"Return a nice text document describing the traceback.\"\"\"\u001B[39;00m\n\u001B[1;32m-> 1192\u001B[0m     formatted_exception \u001B[38;5;241m=\u001B[39m \u001B[38;5;28;43mself\u001B[39;49m\u001B[38;5;241;43m.\u001B[39;49m\u001B[43mformat_exception_as_a_whole\u001B[49m\u001B[43m(\u001B[49m\u001B[43metype\u001B[49m\u001B[43m,\u001B[49m\u001B[43m \u001B[49m\u001B[43mevalue\u001B[49m\u001B[43m,\u001B[49m\u001B[43m \u001B[49m\u001B[43metb\u001B[49m\u001B[43m,\u001B[49m\u001B[43m \u001B[49m\u001B[43mnumber_of_lines_of_context\u001B[49m\u001B[43m,\u001B[49m\n\u001B[0;32m   1193\u001B[0m \u001B[43m                                                           \u001B[49m\u001B[43mtb_offset\u001B[49m\u001B[43m)\u001B[49m\n\u001B[0;32m   1195\u001B[0m     colors \u001B[38;5;241m=\u001B[39m \u001B[38;5;28mself\u001B[39m\u001B[38;5;241m.\u001B[39mColors  \u001B[38;5;66;03m# just a shorthand + quicker name lookup\u001B[39;00m\n\u001B[0;32m   1196\u001B[0m     colorsnormal \u001B[38;5;241m=\u001B[39m colors\u001B[38;5;241m.\u001B[39mNormal  \u001B[38;5;66;03m# used a lot\u001B[39;00m\n",
      "File \u001B[1;32m~\\PycharmProjects\\Traffic-Light-Management\\.venv\\Lib\\site-packages\\IPython\\core\\ultratb.py:1082\u001B[0m, in \u001B[0;36mVerboseTB.format_exception_as_a_whole\u001B[1;34m(self, etype, evalue, etb, number_of_lines_of_context, tb_offset)\u001B[0m\n\u001B[0;32m   1079\u001B[0m \u001B[38;5;28;01massert\u001B[39;00m \u001B[38;5;28misinstance\u001B[39m(tb_offset, \u001B[38;5;28mint\u001B[39m)\n\u001B[0;32m   1080\u001B[0m head \u001B[38;5;241m=\u001B[39m \u001B[38;5;28mself\u001B[39m\u001B[38;5;241m.\u001B[39mprepare_header(\u001B[38;5;28mstr\u001B[39m(etype), \u001B[38;5;28mself\u001B[39m\u001B[38;5;241m.\u001B[39mlong_header)\n\u001B[0;32m   1081\u001B[0m records \u001B[38;5;241m=\u001B[39m (\n\u001B[1;32m-> 1082\u001B[0m     \u001B[38;5;28;43mself\u001B[39;49m\u001B[38;5;241;43m.\u001B[39;49m\u001B[43mget_records\u001B[49m\u001B[43m(\u001B[49m\u001B[43metb\u001B[49m\u001B[43m,\u001B[49m\u001B[43m \u001B[49m\u001B[43mnumber_of_lines_of_context\u001B[49m\u001B[43m,\u001B[49m\u001B[43m \u001B[49m\u001B[43mtb_offset\u001B[49m\u001B[43m)\u001B[49m \u001B[38;5;28;01mif\u001B[39;00m etb \u001B[38;5;28;01melse\u001B[39;00m []\n\u001B[0;32m   1083\u001B[0m )\n\u001B[0;32m   1085\u001B[0m frames \u001B[38;5;241m=\u001B[39m []\n\u001B[0;32m   1086\u001B[0m skipped \u001B[38;5;241m=\u001B[39m \u001B[38;5;241m0\u001B[39m\n",
      "File \u001B[1;32m~\\PycharmProjects\\Traffic-Light-Management\\.venv\\Lib\\site-packages\\IPython\\core\\ultratb.py:1150\u001B[0m, in \u001B[0;36mVerboseTB.get_records\u001B[1;34m(self, etb, number_of_lines_of_context, tb_offset)\u001B[0m\n\u001B[0;32m   1148\u001B[0m \u001B[38;5;28;01mwhile\u001B[39;00m cf \u001B[38;5;129;01mis\u001B[39;00m \u001B[38;5;129;01mnot\u001B[39;00m \u001B[38;5;28;01mNone\u001B[39;00m:\n\u001B[0;32m   1149\u001B[0m     \u001B[38;5;28;01mtry\u001B[39;00m:\n\u001B[1;32m-> 1150\u001B[0m         mod \u001B[38;5;241m=\u001B[39m inspect\u001B[38;5;241m.\u001B[39mgetmodule(\u001B[43mcf\u001B[49m\u001B[38;5;241;43m.\u001B[39;49m\u001B[43mtb_frame\u001B[49m)\n\u001B[0;32m   1151\u001B[0m         \u001B[38;5;28;01mif\u001B[39;00m mod \u001B[38;5;129;01mis\u001B[39;00m \u001B[38;5;129;01mnot\u001B[39;00m \u001B[38;5;28;01mNone\u001B[39;00m:\n\u001B[0;32m   1152\u001B[0m             mod_name \u001B[38;5;241m=\u001B[39m mod\u001B[38;5;241m.\u001B[39m\u001B[38;5;18m__name__\u001B[39m\n",
      "\u001B[1;31mAttributeError\u001B[0m: 'tuple' object has no attribute 'tb_frame'"
     ]
    }
   ],
   "execution_count": 47
  },
  {
   "metadata": {
    "ExecuteTime": {
     "end_time": "2024-04-13T14:59:44.481055Z",
     "start_time": "2024-04-13T14:59:44.480042Z"
    }
   },
   "cell_type": "code",
   "source": "",
   "id": "e7bb68c348689f92",
   "outputs": [],
   "execution_count": null
  }
 ],
 "metadata": {
  "kernelspec": {
   "display_name": "Python 3",
   "language": "python",
   "name": "python3"
  },
  "language_info": {
   "codemirror_mode": {
    "name": "ipython",
    "version": 2
   },
   "file_extension": ".py",
   "mimetype": "text/x-python",
   "name": "python",
   "nbconvert_exporter": "python",
   "pygments_lexer": "ipython2",
   "version": "2.7.6"
  }
 },
 "nbformat": 4,
 "nbformat_minor": 5
}
